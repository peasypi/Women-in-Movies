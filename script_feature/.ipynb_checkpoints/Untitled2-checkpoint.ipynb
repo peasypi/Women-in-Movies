{
 "cells": [
  {
   "cell_type": "markdown",
   "metadata": {},
   "source": [
    "# Steps\n",
    "1. Read in file\n",
    "2. Extract spoken text\n",
    "3. Count spoken words by character\n",
    "4. Charts, charts, charts!!!\n",
    "\n"
   ]
  },
  {
   "cell_type": "markdown",
   "metadata": {},
   "source": [
    "## 1. Read in File"
   ]
  },
  {
   "cell_type": "code",
   "execution_count": 67,
   "metadata": {},
   "outputs": [],
   "source": [
    "import nltk\n",
    "import re\n",
    "from collections import Counter, defaultdict\n",
    "from pprint import pprint\n",
    "import matplotlib.pyplot as plt"
   ]
  },
  {
   "cell_type": "code",
   "execution_count": 68,
   "metadata": {},
   "outputs": [],
   "source": [
    "script = \"\"\"\n",
    "\n",
    "                        SURTUR (O.S.)\n",
    "              Thor, Son of Odin.\n",
    "\n",
    "\n",
    "                         THOR\n",
    "              Surtur. Son of a bitch...you're\n",
    "              still alive! I thought my father\n",
    "              killed you, like, half a million\n",
    "              years ago.\n",
    "\n",
    "                        SURTUR\n",
    "              I cannot die. Not until I fulfill\n",
    "              my destiny and lay waste to your\n",
    "              home.\n",
    "\"\"\""
   ]
  },
  {
   "cell_type": "markdown",
   "metadata": {},
   "source": [
    "## 2. Extract spoken text"
   ]
  },
  {
   "cell_type": "code",
   "execution_count": 69,
   "metadata": {
    "scrolled": true
   },
   "outputs": [],
   "source": [
    "script = re.sub(r\"[\\?|\\.|,|;|\\!|&|-]\", \"\", script)"
   ]
  },
  {
   "cell_type": "code",
   "execution_count": 70,
   "metadata": {
    "scrolled": false
   },
   "outputs": [
    {
     "name": "stdout",
     "output_type": "stream",
     "text": [
      "['Thor', 'Son', 'of', 'Odin', 'Surtur', 'Son', 'of', 'a', 'bitchyou', \"'re\", 'still', 'alive', 'I', 'thought', 'my', 'father', 'killed', 'you', 'like', 'half', 'a', 'million', 'years', 'ago', 'I', 'can', 'not', 'die', 'Not', 'until', 'I', 'fulfill', 'my', 'destiny', 'and', 'lay', 'waste', 'to', 'your', 'home']\n",
      "40\n"
     ]
    }
   ],
   "source": [
    "# with codecs.open(script, 'r', 'utf8') as f:\n",
    "\n",
    "  #read the file content\n",
    "  # f = f.read()\n",
    "script = re.sub(r\"\\(.*\\)\", \"\", script)\n",
    "  # store all the clean text that's accumulated\n",
    "spoken_text = ''\n",
    "\n",
    "  # split the file into a list of strings, with each line a member in the list\n",
    "for line in script.split('\\n'):\n",
    "\n",
    "    # split the line into a list of words in the line\n",
    "    words = line.split()\n",
    "\n",
    "    # if there are no words, do nothing\n",
    "    if not words:\n",
    "        continue\n",
    "\n",
    "    # if this line is a person identifier, do nothing\n",
    "    if len(words[0]) > 1 and all([i.isupper() for i in words[0]]):\n",
    "        continue\n",
    "\n",
    "    # if there's a good amount of whitespace to the left, this is a spoken line\n",
    "    if len(line) - len(line.lstrip()) > 4:\n",
    "        spoken_text += line.strip() + ' '\n",
    "\n",
    "spoken = nltk.word_tokenize(spoken_text)\n",
    "\n",
    "print(spoken)\n",
    "dialog = len(spoken)\n",
    "print(dialog)"
   ]
  },
  {
   "cell_type": "code",
   "execution_count": 73,
   "metadata": {
    "scrolled": false
   },
   "outputs": [
    {
     "name": "stdout",
     "output_type": "stream",
     "text": [
      "Enter name of character:THOR\n",
      "Enter name of another character:SURTUR\n",
      "Character:\n",
      "Character:\n",
      "19\n",
      "40\n",
      "0\n",
      "0\n",
      "defaultdict(<class 'collections.Counter'>, {'Narrator': Counter({'and': 2, 'rock': 2, 'in': 2, 'is': 2, 'a': 2, 'throne': 2, 'A': 1, 'cavernous': 1, 'space': 1, 'The': 1, 'walls': 1, 'floors': 1, 'ceilings': 1, 'are': 1, 'molten': 1, 'which': 1, 'has': 1, 'creepy': 1, 'glimmers': 1, 'of': 1, 'fire': 1, 'within': 1, 'it': 1, 'Stationed': 1, 'the': 1, 'center': 1, 'volcanic': 1, 'sitting': 1, 'that': 1, 'charred': 1, 'demonic': 1, 'skeleton': 1}), 'SURTUR': Counter({'of': 2, 'to': 2, 'on': 2, 'his': 2, 'and': 2, 'I': 2, 'Thor': 1, 'Son': 1, 'Odin': 1, \"Thor's\": 1, 'chain': 1, 'turns': 1, 'reveal': 1, 'SURTUR': 1, 'throne': 1, 'Eighteenfeettall': 1, 'flesh': 1, 'made': 1, 'fire': 1, 'demonic': 1, 'spiked': 1, 'horns': 1, 'skull': 1, 'cannot': 1, 'die': 1, 'Not': 1, 'until': 1, 'fulfill': 1, 'my': 1, 'destiny': 1, 'lay': 1, 'waste': 1, 'your': 1, 'home': 1}), 'THOR': Counter({'a': 2, 'Surtur': 1, 'Son': 1, 'of': 1, \"bitchyou're\": 1, 'still': 1, 'alive': 1, 'I': 1, 'thought': 1, 'my': 1, 'father': 1, 'killed': 1, 'you': 1, 'like': 1, 'half': 1, 'million': 1, 'years': 1, 'ago': 1}), '': Counter()})\n"
     ]
    }
   ],
   "source": [
    "spoken_text = \"\"\n",
    "\n",
    "words_spoken = defaultdict(Counter)\n",
    "currently_speaking = 'Narrator'\n",
    "speaking_people = []\n",
    "\n",
    "for line in script.split('\\n'):\n",
    "    name = line.replace('(CONT\\'D)', '').strip()\n",
    "    if re.match('^[A-Z]+$', name):\n",
    "        currently_speaking = name\n",
    "        speaking_people.append(currently_speaking)\n",
    "    else:\n",
    "        words_spoken[currently_speaking].update(line.split())\n",
    "\n",
    "\n",
    "character1 = input(\"Enter name of character:\")\n",
    "character2 = input(\"Enter name of another character:\")\n",
    "character3 = input(\"Character:\")\n",
    "character4 = input(\"Character:\")\n",
    "\n",
    "sumchar1 = sum(words_spoken[character1].values())\n",
    "sumchar2 = sum(words_spoken[character2].values())\n",
    "sumchar3 = sum(words_spoken[character3].values())\n",
    "sumchar4 = sum(words_spoken[character4].values())\n",
    "print(sumchar1)\n",
    "print(sumchar2)\n",
    "print(sumchar3)\n",
    "print(sumchar4)\n",
    "\n",
    "print(words_spoken)"
   ]
  },
  {
   "cell_type": "code",
   "execution_count": 48,
   "metadata": {},
   "outputs": [
    {
     "data": {
      "image/png": "[encoded data removed]",
      "text/plain": [
       "<Figure size 432x288 with 1 Axes>"
      ]
     },
     "metadata": {},
     "output_type": "display_data"
    }
   ],
   "source": [
    "#Diagramme\n",
    "\n",
    "labels = [character1,character2]\n",
    "values = [sumchar1,sumchar2]\n",
    "sonstige= dialog - sumchar1 - sumchar2\n",
    "\n",
    "word_counts = [sumchar1, sumchar2, sumchar3 , sonstige]\n",
    "names = [character1, character2, character3, \"Sonstige\"]\n",
    "colors = ['#b284be', '#e52b50', '#abcdef', '#848484']\n",
    "plt.pie(word_counts, labels=names, colors=colors, startangle=90, autopct='%.1f%%')\n",
    "plt.title('Research on words spoken')\n",
    "plt.show()\n",
    "# pprint(set(speaking_people))"
   ]
  },
  {
   "cell_type": "code",
   "execution_count": null,
   "metadata": {},
   "outputs": [],
   "source": []
  },
  {
   "cell_type": "code",
   "execution_count": null,
   "metadata": {},
   "outputs": [],
   "source": []
  }
 ],
 "metadata": {
  "kernelspec": {
   "display_name": "Python 3",
   "language": "python",
   "name": "python3"
  },
  "language_info": {
   "codemirror_mode": {
    "name": "ipython",
    "version": 3
   },
   "file_extension": ".py",
   "mimetype": "text/x-python",
   "name": "python",
   "nbconvert_exporter": "python",
   "pygments_lexer": "ipython3",
   "version": "3.7.1"
  }
 },
 "nbformat": 4,
 "nbformat_minor": 2
}
