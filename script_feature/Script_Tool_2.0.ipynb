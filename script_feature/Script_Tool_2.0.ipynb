{
 "cells": [
  {
   "cell_type": "markdown",
   "metadata": {},
   "source": [
    "# Steps\n",
    "1. Import everything\n",
    "2. Main Method\n",
    "3. Read in File\n",
    "4. Extract spoken text\n",
    "5. Count spoken words by character\n",
    "6. Charts, charts, charts!!!\n",
    "\n"
   ]
  },
  {
   "cell_type": "markdown",
   "metadata": {},
   "source": [
    "## 1. Import everything"
   ]
  },
  {
   "cell_type": "code",
   "execution_count": 154,
   "metadata": {},
   "outputs": [],
   "source": [
    "import nltk\n",
    "import re\n",
    "from collections import Counter, defaultdict\n",
    "from pprint import pprint\n",
    "import matplotlib.pyplot as plt\n",
    "import requests\n",
    "from bs4 import BeautifulSoup\n",
    "\n",
    "\n"
   ]
  },
  {
   "cell_type": "markdown",
   "metadata": {},
   "source": [
    "## Funktionen"
   ]
  },
  {
   "cell_type": "code",
   "execution_count": 192,
   "metadata": {},
   "outputs": [],
   "source": [
    "def script_input(film):\n",
    "    \"\"\"Read a film script in. Use a webscrapper to turn html file from www.imsdb.com into text. \n",
    "    Clean it up with regex to get rid of special characters.\n",
    "    \n",
    "    :param film: User input\n",
    "    :param page: get html page\n",
    "    :param soup: scrap and parse the html page content\n",
    "    :return: return clean script\n",
    "    \"\"\"\n",
    "    \n",
    "    page = requests.get(\"https://www.imsdb.com/scripts/Pearl-Harbor.html\")\n",
    "    soup = BeautifulSoup(page.content, 'html.parser')\n",
    "    \n",
    "    # Extract film script from html page\n",
    "    for tag in soup.find_all('pre'):\n",
    "        script = tag.text\n",
    "        if script == \"\":\n",
    "            for tag in soup.find_all('pre'):\n",
    "                script = tag.text\n",
    "    return script"
   ]
  },
  {
   "cell_type": "code",
   "execution_count": 193,
   "metadata": {},
   "outputs": [],
   "source": [
    "def clean_the_script(script):\n",
    "    script_clean = re.sub(r\"[\\?|\\.|,|;|\\!|&|-|']\", \" \", script)\n",
    "    script_clean = re.sub(r\"\\(.*\\)\", \"\", script_clean)\n",
    "    return script_clean"
   ]
  },
  {
   "cell_type": "code",
   "execution_count": 194,
   "metadata": {},
   "outputs": [],
   "source": [
    "def spoken_text(script):\n",
    "      # store all the clean text that's accumulated\n",
    "    spoken_text = ''\n",
    "\n",
    "      # split the file into a list of strings, with each line a member in the list\n",
    "    for line in script.split('\\n'):\n",
    "\n",
    "        # split the line into a list of words in the line\n",
    "        words = line.split()\n",
    "\n",
    "        # if there are no words, do nothing\n",
    "        if not words:\n",
    "            continue\n",
    "\n",
    "        # if this line is a person identifier, do nothing\n",
    "        if len(words[0]) > 1 and all([i.isupper() for i in words[0]]):\n",
    "            continue\n",
    "\n",
    "        # if there's a good amount of whitespace to the left, this is a spoken line\n",
    "        if len(line) - len(line.lstrip()) > 4:\n",
    "            spoken_text += line.strip() + ' '\n",
    "\n",
    "    spoken = nltk.word_tokenize(spoken_text)\n",
    "\n",
    "    dialog = len(spoken)\n",
    "    \n",
    "    return dialog"
   ]
  },
  {
   "cell_type": "code",
   "execution_count": 195,
   "metadata": {},
   "outputs": [],
   "source": [
    "def extract_speaker(script):\n",
    "    \"\"\"Extract the speakers from the script and assign spoken words \n",
    "    \n",
    "    :param script: Given film script to extract speakers\n",
    "    :param currently_speaking: Identify name of current speaker\n",
    "    :return: return words spoken \n",
    "    \"\"\"\n",
    "    spoken_text = \"\"\n",
    "    \n",
    "    # Create defaultdict - Dictionary with counter  \n",
    "    words_spoken = defaultdict(Counter)\n",
    "    currently_speaking = \"\"\n",
    "    speaking_people = []\n",
    "\n",
    "    # Split script into sentence and search for names written like JOHN DOE - uppercase \n",
    "    # Assign spoken words to belonging character\n",
    "    for line in script.split('\\n'):\n",
    "        name = line.replace('(CONT\\'D)', '').strip()\n",
    "        if re.match('^[A-Z]+$', name):\n",
    "            currently_speaking = name\n",
    "            speaking_people.append(currently_speaking)\n",
    "        else:\n",
    "            words_spoken[currently_speaking].update(line.split())\n",
    "    return words_spoken"
   ]
  },
  {
   "cell_type": "code",
   "execution_count": 196,
   "metadata": {},
   "outputs": [],
   "source": [
    "def rolePlot(dialog,words_spoken,film):\n",
    "    \"\"\"Plot spoken words by n character.\n",
    "    n input by user - how many characters do you want to compare?\n",
    "    \n",
    "    :param dialog: total words spoken in a film\n",
    "    :param words_spoken: words spoken by specific characters\n",
    "    :return: Plot as pie chart\n",
    "    \"\"\"\n",
    "    roles = input(\"How many Characters should be researched ?\")\n",
    "    roles = int(roles)\n",
    "    pprint(\"List of Speaking Characters\")\n",
    "    pprint(set(words_spoken.keys()))\n",
    "    word_counts = []\n",
    "    names = []\n",
    "   \n",
    "    if roles == 2 :\n",
    "        character1 = input(\"Enter name of a character:\\n\")\n",
    "        character2 = input(\"Enter another name of a character:\\n\")\n",
    "        sumchar1 = sum(words_spoken[character1].values())\n",
    "        sumchar2 = sum(words_spoken[character2].values())\n",
    "        words_spoken.pop('')\n",
    "        labels = [character1,character2]\n",
    "        values = [sumchar1,sumchar2]\n",
    "        sonstige = dialog - sumchar1 - sumchar2\n",
    "        word_counts = [sumchar1, sumchar2,sonstige]\n",
    "        names = [character1, character2,\"Misc\"]\n",
    " \n",
    "    if roles == 3 :\n",
    "        character1 = input(\"Enter name of a character:\\n\")\n",
    "        character2 = input(\"Enter another name of a character:\\n\")\n",
    "        character3 = input(\"Enter another name of a character:\\n\")\n",
    "        sumchar1 = sum(words_spoken[character1].values())\n",
    "        sumchar2 = sum(words_spoken[character2].values())\n",
    "        sumchar3 = sum(words_spoken[character3].values())\n",
    "        words_spoken.pop('')\n",
    "        labels = [character1,character2,character3]\n",
    "        values = [sumchar1,sumchar2,sumchar3]\n",
    "        sonstige = dialog - sumchar1 - sumchar2 - sumchar3\n",
    "        word_counts = [sumchar1, sumchar2, sumchar3,sonstige]\n",
    "        names = [character1, character2, character3,\"Misc\"]\n",
    "       \n",
    "    if roles == 4 :\n",
    "        character1 = input(\"Enter name of a character:\\n\")\n",
    "        character2 = input(\"Enter another name of a character:\\n\")\n",
    "        character3 = input(\"Enter another name of a character:\\n\")\n",
    "        character4 = input(\"Enter another name of a character:\\n\")\n",
    "        sumchar1 = sum(words_spoken[character1].values())\n",
    "        sumchar2 = sum(words_spoken[character2].values())\n",
    "        sumchar3 = sum(words_spoken[character3].values())\n",
    "        sumchar4 = sum(words_spoken[character4].values())\n",
    "        words_spoken.pop('')\n",
    "        labels = [character1,character2,character3,character4]\n",
    "        values = [sumchar1,sumchar2,sumchar3,sumchar4]\n",
    "        sonstige = dialog - sumchar1 - sumchar2 - sumchar3 - sumchar4\n",
    "        word_counts = [sumchar1, sumchar2, sumchar3, sumchar4,sonstige]\n",
    "        names = [character1, character2, character3, character4,\"Misc\"]\n",
    "   \n",
    "       \n",
    "    # Draw pie chart \n",
    "    colors = ['#66Cdaa', '#87CeFa', '#9370dB', '#848484', '#ff004d']\n",
    "    plt.pie(word_counts, labels=names, colors=colors, startangle=90, autopct='%.1f%%')\n",
    "    plt.title('Research on words spoken')\n",
    "    plt.savefig('{}.png'.format(film))\n",
    "    plt.show()\n",
    "    "
   ]
  },
  {
   "cell_type": "markdown",
   "metadata": {},
   "source": [
    "## 2. Main Method"
   ]
  },
  {
   "cell_type": "code",
   "execution_count": 197,
   "metadata": {
    "scrolled": true
   },
   "outputs": [
    {
     "name": "stdout",
     "output_type": "stream",
     "text": [
      "What film are you looking for?\n",
      "Pearl-Harbor\n",
      "How many Characters should be researched ?3\n",
      "'List of Speaking Characters'\n",
      "{''}\n",
      "Enter name of a character:\n",
      "\n",
      "Enter another name of a character:\n",
      "\n",
      "Enter another name of a character:\n",
      "\n"
     ]
    },
    {
     "data": {
      "image/png": "[encoded data removed]",
      "text/plain": [
       "<Figure size 432x288 with 1 Axes>"
      ]
     },
     "metadata": {},
     "output_type": "display_data"
    }
   ],
   "source": [
    "\"\"\"Call functions\n",
    "\n",
    ":param dialog: int Total of spoken words\n",
    ":param words_spoken: Spoken words by specific character\n",
    "\n",
    ":output: pie chart \n",
    "\"\"\"\n",
    "# Enter film script you are looking for\n",
    "film = input(\"What film are you looking for?\\n\")\n",
    "script = script_input(film)\n",
    "clean_script = clean_the_script(script)\n",
    "dialog = spoken_text(clean_script)\n",
    "words_spoken = extract_speaker(clean_script)\n",
    "rolePlot(dialog,words_spoken, film)\n",
    "\n",
    "\n",
    " "
   ]
  },
  {
   "cell_type": "code",
   "execution_count": 198,
   "metadata": {},
   "outputs": [
    {
     "data": {
      "text/plain": [
       "'\\n'"
      ]
     },
     "execution_count": 198,
     "metadata": {},
     "output_type": "execute_result"
    }
   ],
   "source": [
    "script"
   ]
  },
  {
   "cell_type": "code",
   "execution_count": null,
   "metadata": {},
   "outputs": [],
   "source": []
  }
 ],
 "metadata": {
  "kernelspec": {
   "display_name": "Python 3",
   "language": "python",
   "name": "python3"
  },
  "language_info": {
   "codemirror_mode": {
    "name": "ipython",
    "version": 3
   },
   "file_extension": ".py",
   "mimetype": "text/x-python",
   "name": "python",
   "nbconvert_exporter": "python",
   "pygments_lexer": "ipython3",
   "version": "3.7.1"
  }
 },
 "nbformat": 4,
 "nbformat_minor": 2
}
